{
 "cells": [
  {
   "cell_type": "code",
   "execution_count": 1,
   "metadata": {},
   "outputs": [],
   "source": [
    "a = [[\"15:00\", \"17:00\"], [\"16:40\", \"18:20\"], [\"14:20\", \"15:20\"], [\"14:10\", \"19:20\"], [\"18:20\", \"21:20\"]]"
   ]
  },
  {
   "cell_type": "code",
   "execution_count": 16,
   "metadata": {},
   "outputs": [
    {
     "name": "stdout",
     "output_type": "stream",
     "text": [
      "15.0\n",
      "16.4\n",
      "14.2\n",
      "14.1\n",
      "18.2\n",
      "{15.0: ['15:00', '17:00'], 16.4: ['16:40', '18:20'], 14.2: ['14:20', '15:20'], 14.1: ['14:10', '19:20'], 18.2: ['18:20', '21:20']}\n",
      "{14.1: ['14:10', '19:20'], 14.2: ['14:20', '15:20'], 15.0: ['15:00', '17:00'], 16.4: ['16:40', '18:20'], 18.2: ['18:20', '21:20']}\n"
     ]
    }
   ],
   "source": [
    "dic = {}\n",
    "for i in a:\n",
    "    aan = float('.'.join(i[0].split(':')))\n",
    "    dic[aan] = i\n",
    "\n",
    "print(dic)\n",
    "d1 = dict(sorted(dic.items()))\n",
    "print(d1)"
   ]
  },
  {
   "cell_type": "code",
   "execution_count": 21,
   "metadata": {},
   "outputs": [],
   "source": [
    "book_time = [[\"15:00\", \"17:00\"], [\"16:40\", \"18:20\"], [\"14:20\", \"15:20\"], [\"14:10\", \"19:20\"], [\"18:20\", \"21:20\"]]"
   ]
  },
  {
   "cell_type": "code",
   "execution_count": 25,
   "metadata": {},
   "outputs": [
    {
     "name": "stdout",
     "output_type": "stream",
     "text": [
      "{14.1: ['14:10', '19:20'], 14.2: ['14:20', '15:20'], 15.0: ['15:00', '17:00'], 16.4: ['16:40', '18:20'], 18.2: ['18:20', '21:20']}\n"
     ]
    }
   ],
   "source": [
    "a = [[float('.'.join(i[0].split(':'))),i] for i in book_time]\n",
    "# for i in a:\n",
    "#     aan = float('.'.join(i[0].split(':')))\n",
    "#     dic[aan] = i\n",
    "print(dict(sorted(dict(a).items())))\n",
    "# print(dic)\n",
    "# d1 = dict(sorted(dic.items()))\n",
    "# print(d1)"
   ]
  },
  {
   "cell_type": "code",
   "execution_count": 66,
   "metadata": {},
   "outputs": [
    {
     "data": {
      "text/plain": [
       "[[14.1, 19.2], [14.2, 15.2], [15.0, 17.0], [16.4, 18.2], [18.2, 21.2]]"
      ]
     },
     "execution_count": 66,
     "metadata": {},
     "output_type": "execute_result"
    }
   ],
   "source": [
    "a = sorted([[float('.'.join(i[0].split(':'))),float('.'.join(i[1].split(':')))] for i in book_time])\n",
    "# a.sort()\n",
    "a"
   ]
  },
  {
   "cell_type": "code",
   "execution_count": 55,
   "metadata": {},
   "outputs": [],
   "source": [
    "book_time = [[\"09:10\", \"10:10\"], [\"10:20\", \"12:20\"]]\n",
    "# book_time = [[\"15:00\", \"17:00\"], [\"16:40\", \"18:20\"], [\"14:20\", \"15:20\"], [\"14:10\", \"19:20\"], [\"18:20\", \"21:20\"]]"
   ]
  },
  {
   "cell_type": "code",
   "execution_count": 59,
   "metadata": {},
   "outputs": [
    {
     "name": "stdout",
     "output_type": "stream",
     "text": [
      "[[9.1, 10.1]]\n",
      "10.199 10.2\n",
      "[[10.2, 12.2]]\n"
     ]
    },
    {
     "data": {
      "text/plain": [
       "1"
      ]
     },
     "execution_count": 59,
     "metadata": {},
     "output_type": "execute_result"
    }
   ],
   "source": [
    "book_time_sort = sorted([[float('.'.join(i[0].split(':'))),float('.'.join(i[1].split(':')))] for i in book_time])\n",
    "\n",
    "rooms = []\n",
    "for customer in book_time_sort:\n",
    "    # if len(rooms) == 0:\n",
    "    #     rooms.append(customer)\n",
    "    # else:\n",
    "    for idx, room in enumerate(rooms):\n",
    "        if room[1]+0.1 <= customer[0]:\n",
    "            rooms[idx] = customer\n",
    "            break\n",
    "    else:\n",
    "        rooms.append(customer)\n",
    "    print(rooms)\n",
    "len(rooms)"
   ]
  },
  {
   "cell_type": "code",
   "execution_count": 62,
   "metadata": {},
   "outputs": [],
   "source": [
    "# book_time = [[\"09:10\", \"10:10\"], [\"10:20\", \"12:20\"]]\n",
    "book_time = [[\"15:00\", \"17:00\"], [\"16:40\", \"18:20\"], [\"14:20\", \"15:20\"], [\"14:10\", \"19:20\"], [\"18:20\", \"21:20\"]]"
   ]
  },
  {
   "cell_type": "code",
   "execution_count": 64,
   "metadata": {},
   "outputs": [
    {
     "data": {
      "text/plain": [
       "3"
      ]
     },
     "execution_count": 64,
     "metadata": {},
     "output_type": "execute_result"
    }
   ],
   "source": [
    "def solution(book_time):\n",
    "    book_time_sort = sorted([[float('.'.join(i[0].split(':'))),float('.'.join(i[1].split(':')))] for i in book_time])\n",
    "\n",
    "    rooms = []\n",
    "    for customer in book_time_sort:\n",
    "        for idx, room in enumerate(rooms):\n",
    "            if room[1] <= customer[0]-0.1:\n",
    "                rooms[idx] = customer\n",
    "                break\n",
    "        else:\n",
    "            rooms.append(customer)\n",
    "    \n",
    "    return len(rooms)\n",
    "\n",
    "solution(book_time)"
   ]
  },
  {
   "cell_type": "code",
   "execution_count": null,
   "metadata": {},
   "outputs": [],
   "source": [
    "def solution(book_time):\n",
    "    book_time_sort = sorted([[float('.'.join(i[0].split(':'))),float('.'.join(i[1].split(':')))] for i in book_time])\n",
    "\n",
    "    rooms = []\n",
    "    for customer in book_time_sort:\n",
    "        for idx, room in enumerate(rooms):\n",
    "            if room[1] <= customer[0]-0.1:\n",
    "                rooms[idx] = customer\n",
    "                break\n",
    "        else:\n",
    "            rooms.append(customer)\n",
    "    \n",
    "    return len(rooms)"
   ]
  },
  {
   "cell_type": "code",
   "execution_count": 80,
   "metadata": {},
   "outputs": [
    {
     "data": {
      "text/plain": [
       "[['15:00', '17:00'],\n",
       " ['16:40', '18:20'],\n",
       " ['14:20', '15:20'],\n",
       " ['14:10', '19:20'],\n",
       " ['18:20', '21:20']]"
      ]
     },
     "execution_count": 80,
     "metadata": {},
     "output_type": "execute_result"
    }
   ],
   "source": [
    "book_time = [[\"15:00\", \"17:00\"], [\"16:40\", \"18:20\"], [\"14:20\", \"15:20\"], [\"14:10\", \"19:20\"], [\"18:20\", \"21:20\"]]\n",
    "book_time"
   ]
  },
  {
   "cell_type": "code",
   "execution_count": 83,
   "metadata": {},
   "outputs": [
    {
     "data": {
      "text/plain": [
       "[[900, 1020], [1000, 1100], [860, 920], [850, 1160], [1100, 1280]]"
      ]
     },
     "execution_count": 83,
     "metadata": {},
     "output_type": "execute_result"
    }
   ],
   "source": [
    "[[int(i[0].split(':')[0])*60+int(i[0].split(':')[1]),int(i[1].split(':')[0])*60+int(i[1].split(':')[1])] for i in book_time]"
   ]
  },
  {
   "cell_type": "code",
   "execution_count": 79,
   "metadata": {},
   "outputs": [
    {
     "data": {
      "text/plain": [
       "[0, 40, 20, 10, 20]"
      ]
     },
     "execution_count": 79,
     "metadata": {},
     "output_type": "execute_result"
    }
   ],
   "source": [
    "[int(i[0].split(':')[1]) for i in book_time]"
   ]
  }
 ],
 "metadata": {
  "kernelspec": {
   "display_name": "ar-zipp",
   "language": "python",
   "name": "python3"
  },
  "language_info": {
   "codemirror_mode": {
    "name": "ipython",
    "version": 3
   },
   "file_extension": ".py",
   "mimetype": "text/x-python",
   "name": "python",
   "nbconvert_exporter": "python",
   "pygments_lexer": "ipython3",
   "version": "3.10.12"
  }
 },
 "nbformat": 4,
 "nbformat_minor": 2
}
