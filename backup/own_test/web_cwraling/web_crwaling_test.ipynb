{
 "cells": [
  {
   "cell_type": "code",
   "execution_count": 1,
   "metadata": {},
   "outputs": [],
   "source": [
    "from selenium import webdriver\n",
    "driver = webdriver.Chrome()\n",
    "url = 'https://www.google.com'\n",
    "driver.get(url)"
   ]
  },
  {
   "cell_type": "code",
   "execution_count": 3,
   "metadata": {},
   "outputs": [],
   "source": [
    "import os\n",
    "import time\n",
    "import requests\n",
    "from selenium import webdriver\n",
    "from urllib.parse import urljoin\n",
    "from selenium.webdriver.common.by import By"
   ]
  },
  {
   "cell_type": "code",
   "execution_count": 7,
   "metadata": {},
   "outputs": [],
   "source": [
    "# ChromeDriver의 경로 설정\n",
    "browser = webdriver.Chrome()"
   ]
  },
  {
   "cell_type": "code",
   "execution_count": 8,
   "metadata": {},
   "outputs": [],
   "source": [
    "# 웹 페이지로 이동\n",
    "url = \"https://new.land.naver.com/complexes/26701?ms=37.3917647,127.0799232,16&a=APT:ABYG:JGC&e=RETAIL&articleNo=2344951624\"  # 여기에 이미지를 다운로드할 웹 사이트 URL을 입력하세요.\n",
    "browser.get(url)\n",
    "\n",
    "# 페이지가 완전히 로드될 때까지 충분히 기다리기 (선택 사항)\n",
    "time.sleep(5)"
   ]
  },
  {
   "cell_type": "code",
   "execution_count": 12,
   "metadata": {},
   "outputs": [
    {
     "data": {
      "text/plain": [
       "[<selenium.webdriver.remote.webelement.WebElement (session=\"6d87e11ad55d8feb0ce25125eaeb1241\", element=\"23D4E340BAC3356D0554190E8E03188C_element_96\")>]"
      ]
     },
     "execution_count": 12,
     "metadata": {},
     "output_type": "execute_result"
    }
   ],
   "source": [
    "from selenium.webdriver.common.by import By\n",
    "images = browser.find_elements(By.XPATH, '//img[@alt=\"기본형 평면도\"]')\n",
    "images"
   ]
  },
  {
   "cell_type": "code",
   "execution_count": 13,
   "metadata": {},
   "outputs": [],
   "source": [
    "# 이미지 URL 수집\n",
    "image_urls = [image.get_attribute('src') for image in images if image.get_attribute('src') is not None]\n",
    "\n",
    "# 이미지를 저장할 폴더 생성\n",
    "os.makedirs('downloaded_images', exist_ok=True)\n",
    "\n",
    "# 이미지 다운로드 및 저장\n",
    "for i, image_url in enumerate(image_urls):\n",
    "    image_content = requests.get(image_url).content\n",
    "    with open(f'downloaded_images/image_{i}.jpg', 'wb') as f:\n",
    "        f.write(image_content)\n",
    "\n",
    "# 웹 드라이버 종료\n",
    "browser.quit()"
   ]
  },
  {
   "cell_type": "code",
   "execution_count": 7,
   "metadata": {},
   "outputs": [],
   "source": [
    "def make_new_file_name(path, name, ext):\n",
    "    if not os.path.exists(path):\n",
    "        os.makedirs(path)\n",
    "    for i in range(10000):\n",
    "        file_name = f'{path}/{name}_{i:03}.{ext}'\n",
    "        if os.path.isfile(file_name):\n",
    "            pass\n",
    "        else:\n",
    "            return file_name\n",
    "    else:\n",
    "        return 'File is too many...'"
   ]
  },
  {
   "cell_type": "code",
   "execution_count": 15,
   "metadata": {},
   "outputs": [
    {
     "name": "stdout",
     "output_type": "stream",
     "text": [
      "page load error : idx 1\n",
      "page load error : idx 3\n",
      "page load error : idx 4\n",
      "page load error : idx 5\n",
      "page load error : idx 6\n",
      "page load error : idx 7\n",
      "page load error : idx 10\n",
      "downloaded_images/image_244.jpg\n",
      "page load error : idx 12\n",
      "page load error : idx 14\n",
      "page load error : idx 15\n",
      "downloaded_images/image_245.jpg\n",
      "page load error : idx 17\n",
      "page load error : idx 18\n",
      "page load error : idx 20\n",
      "page load error : idx 21\n",
      "page load error : idx 22\n",
      "page load error : idx 23\n",
      "page load error : idx 24\n",
      "page load error : idx 25\n",
      "page load error : idx 26\n",
      "page load error : idx 27\n",
      "page load error : idx 28\n",
      "page load error : idx 29\n",
      "page load error : idx 30\n",
      "page load error : idx 31\n",
      "page load error : idx 32\n",
      "downloaded_images/image_246.jpg\n",
      "page load error : idx 34\n",
      "page load error : idx 35\n",
      "page load error : idx 36\n",
      "page load error : idx 37\n",
      "page load error : idx 38\n",
      "page load error : idx 40\n",
      "page load error : idx 41\n",
      "page load error : idx 42\n",
      "page load error : idx 43\n",
      "downloaded_images/image_247.jpg\n",
      "page load error : idx 46\n",
      "page load error : idx 47\n",
      "page load error : idx 49\n",
      "page load error : idx 50\n",
      "page load error : idx 51\n",
      "page load error : idx 52\n",
      "page load error : idx 53\n",
      "page load error : idx 54\n",
      "page load error : idx 55\n",
      "page load error : idx 57\n",
      "page load error : idx 58\n",
      "page load error : idx 61\n",
      "page load error : idx 62\n",
      "page load error : idx 63\n",
      "page load error : idx 64\n",
      "downloaded_images/image_248.jpg\n",
      "page load error : idx 67\n",
      "page load error : idx 68\n",
      "page load error : idx 69\n",
      "page load error : idx 71\n",
      "page load error : idx 72\n",
      "page load error : idx 73\n",
      "page load error : idx 74\n",
      "page load error : idx 75\n",
      "page load error : idx 78\n",
      "page load error : idx 81\n",
      "downloaded_images/image_249.jpg\n",
      "page load error : idx 84\n",
      "page load error : idx 85\n",
      "page load error : idx 86\n",
      "page load error : idx 88\n",
      "page load error : idx 90\n",
      "page load error : idx 92\n",
      "page load error : idx 93\n",
      "page load error : idx 94\n",
      "downloaded_images/image_250.jpg\n",
      "downloaded_images/image_251.jpg\n",
      "page load error : idx 97\n",
      "page load error : idx 98\n",
      "page load error : idx 99\n",
      "downloaded_images/image_252.jpg\n",
      "downloaded_images/image_253.jpg\n",
      "page load error : idx 103\n",
      "page load error : idx 105\n"
     ]
    }
   ],
   "source": [
    "browser = webdriver.Chrome()\n",
    "\n",
    "for i in range(300):\n",
    "    try:\n",
    "        # url = 'https://new.land.naver.com/complexes?ms=37.3903708,127.0691794,16&a=APT:ABYG:JGC:OPST&e=RETAIL'\n",
    "        # url = 'https://new.land.naver.com/complexes?ms=37.3873702,127.1027821,16&a=APT:ABYG:JGC:OPST:PRE&e=RETAIL'\n",
    "        # url = 'https://new.land.naver.com/complexes?ms=37.4124112,127.1069127,16&a=APT:ABYG:JGC:OPST:PRE&e=RETAIL'\n",
    "        # url = 'https://new.land.naver.com/complexes?ms=37.4072162,127.1378976,15&a=APT:ABYG:JGC:OPST:PRE&e=RETAIL'\n",
    "        # url = 'https://new.land.naver.com/complexes?ms=37.3753189,127.1277052,15&a=APT:ABYG:JGC:OPST&e=RETAIL'\n",
    "        url = 'https://new.land.naver.com/complexes?ms=37.548447,127.0769946,16&a=APT:ABYG:JGC:OPST:PRE&e=RETAIL'\n",
    "        browser.get(url)\n",
    "\n",
    "        homes = browser.find_elements(By.CLASS_NAME, 'marker_transparent')\n",
    "        browser.implicitly_wait(10)\n",
    "        homes[i].click()\n",
    "        browser.implicitly_wait(10)\n",
    "\n",
    "        images = browser.find_elements(By.XPATH, '//img[@alt=\"기본형 평면도\"]')\n",
    "        image_urls = [image.get_attribute('src') for image in images if image.get_attribute('src') is not None]\n",
    "        # 이미지를 저장할 폴더 생성\n",
    "        os.makedirs('downloaded_images', exist_ok=True)\n",
    "\n",
    "        # 이미지 다운로드 및 저장\n",
    "        for i, image_url in enumerate(image_urls):\n",
    "            image_content = requests.get(image_url).content\n",
    "            # with open(f'downloaded_images/image_{i}.jpg', 'wb') as f:\n",
    "            image_path = make_new_file_name('downloaded_images', 'image', 'jpg')\n",
    "            print(image_path)\n",
    "            with open(image_path, 'wb') as f:\n",
    "                f.write(image_content)\n",
    "    except:\n",
    "        print(f'page load error : idx {i}')\n",
    "\n",
    "    if i >= len(homes):\n",
    "        break\n",
    "\n",
    "\n",
    "# 웹 드라이버 종료\n",
    "browser.quit()"
   ]
  },
  {
   "cell_type": "code",
   "execution_count": 20,
   "metadata": {},
   "outputs": [],
   "source": [
    "import shutil\n",
    "\n",
    "download_path = 'downloaded_images'\n",
    "file_list = os.listdir(download_path)\n",
    "\n",
    "for file_name in file_list:\n",
    "    to_file_path = '../../AR-zipp/statics/Images/Original/'\n",
    "    shutil.copyfile(download_path+'/'+file_name, make_new_file_name(to_file_path, 'image', 'jpg'))"
   ]
  }
 ],
 "metadata": {
  "kernelspec": {
   "display_name": "Python 3",
   "language": "python",
   "name": "python3"
  },
  "language_info": {
   "codemirror_mode": {
    "name": "ipython",
    "version": 3
   },
   "file_extension": ".py",
   "mimetype": "text/x-python",
   "name": "python",
   "nbconvert_exporter": "python",
   "pygments_lexer": "ipython3",
   "version": "3.10.12"
  }
 },
 "nbformat": 4,
 "nbformat_minor": 2
}
